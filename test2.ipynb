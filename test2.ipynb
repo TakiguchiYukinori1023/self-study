{
 "cells": [
  {
   "cell_type": "code",
   "execution_count": 1,
   "metadata": {},
   "outputs": [
    {
     "name": "stdout",
     "output_type": "stream",
     "text": [
      "足し算の答えは150です\n"
     ]
    }
   ],
   "source": [
    "def plus(x, y):\n",
    "    answer = x + y\n",
    "    return answer   \n",
    "\n",
    "answer = plus(100, 50)\n",
    "print('足し算の答えは{}です'.format(answer))"
   ]
  },
  {
   "cell_type": "code",
   "execution_count": 4,
   "metadata": {},
   "outputs": [
    {
     "name": "stdout",
     "output_type": "stream",
     "text": [
      "浅木さんの試験結果を入力してください\n"
     ]
    },
    {
     "name": "stdin",
     "output_type": "stream",
     "text": [
      "ネットワークの得点? >> 45\n",
      "データベースの得点? >> 25\n",
      "セキュリティの得点? >> 23\n"
     ]
    },
    {
     "name": "stdout",
     "output_type": "stream",
     "text": [
      "松田さんの試験結果を入力してください\n"
     ]
    },
    {
     "name": "stdin",
     "output_type": "stream",
     "text": [
      "ネットワークの得点? >> 56\n",
      "データベースの得点? >> 23\n",
      "セキュリティの得点? >> 57\n"
     ]
    },
    {
     "name": "stdout",
     "output_type": "stream",
     "text": [
      "浅木さんの平均点は31.0です\n",
      "松田さんの平均点は45.333333333333336です\n"
     ]
    }
   ],
   "source": [
    "def input_scores(name):\n",
    "    print('{}さんの試験結果を入力してください'.format(name))\n",
    "    network = int(input('ネットワークの得点? >>'))\n",
    "    database = int(input('データベースの得点? >>'))\n",
    "    security = int(input('セキュリティの得点? >>'))\n",
    "    scores = [network, database, security]\n",
    "    return scores\n",
    "\n",
    "def calc_average(scores):\n",
    "    avg = sum(scores) / len(scores)\n",
    "    return avg\n",
    "\n",
    "def output_result(name,avg):\n",
    "    print('{}さんの平均点は{}です'.format(name, avg))\n",
    "    return name_avg\n",
    "\n",
    "#浅木と松田の得点入力\n",
    "asagi_scores = input_scores('浅木')\n",
    "matsuda_scores = input_scores('松田')\n",
    "#平均点を計算\n",
    "asagi_avg = calc_average(asagi_scores)\n",
    "matsuda_avg = calc_average(matsuda_scores)\n",
    "#結果を出力\n",
    "output_result('浅木', asagi_avg)\n",
    "output_result('松田', matsuda_avg)"
   ]
  },
  {
   "cell_type": "code",
   "execution_count": 8,
   "metadata": {},
   "outputs": [
    {
     "name": "stdout",
     "output_type": "stream",
     "text": [
      "1979 1977\n"
     ]
    }
   ],
   "source": [
    "def plus_and_minus(a,b):\n",
    "    return a + b, a-b\n",
    "\n",
    "next, prev = plus_and_minus(1978,1)\n",
    "print(next,prev)"
   ]
  },
  {
   "cell_type": "code",
   "execution_count": null,
   "metadata": {},
   "outputs": [],
   "source": [
    "def eat(breakfast,lunch,dinner):\n",
    "    print('朝は{}を食べました'.format(breakfast))\n",
    "    print('昼は{}を食べました'.format(lunch))\n",
    "    print('晩は{}を食べました').format(dinner)\n",
    "    \n",
    "    print('8月1日')\n",
    "    eat('トースト','おにぎり','カレー')\n",
    "    print('8月2日')\n",
    "    eat('納豆ごはん','ラーメン','カレー')\n",
    "    print('8月3日')\n",
    "    eat('バナナ','そば','焼肉')\n",
    "    print('8月4日')\n",
    "    eat('サンドイッチ','しゅうまい弁当','カレー')"
   ]
  },
  {
   "cell_type": "code",
   "execution_count": null,
   "metadata": {},
   "outputs": [],
   "source": []
  }
 ],
 "metadata": {
  "kernelspec": {
   "display_name": "Python 3",
   "language": "python",
   "name": "python3"
  },
  "language_info": {
   "codemirror_mode": {
    "name": "ipython",
    "version": 3
   },
   "file_extension": ".py",
   "mimetype": "text/x-python",
   "name": "python",
   "nbconvert_exporter": "python",
   "pygments_lexer": "ipython3",
   "version": "3.7.4"
  }
 },
 "nbformat": 4,
 "nbformat_minor": 4
}
