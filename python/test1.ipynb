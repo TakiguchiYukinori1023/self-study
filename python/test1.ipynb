{
 "cells": [
  {
   "cell_type": "code",
   "execution_count": 2,
   "metadata": {},
   "outputs": [
    {
     "name": "stdout",
     "output_type": "stream",
     "text": [
      "Hello World\n"
     ]
    }
   ],
   "source": [
    "print(\"Hello World\")"
   ]
  },
  {
   "cell_type": "code",
   "execution_count": 3,
   "metadata": {},
   "outputs": [
    {
     "name": "stdout",
     "output_type": "stream",
     "text": [
      "浅木薫、がんばります!!\n"
     ]
    }
   ],
   "source": [
    "print(\"浅木薫、がんばります!!\")"
   ]
  },
  {
   "cell_type": "code",
   "execution_count": 1,
   "metadata": {},
   "outputs": [
    {
     "name": "stdout",
     "output_type": "stream",
     "text": [
      "工藤　慎平\n",
      "30歳\n",
      "三度の飯より数学が好き\n"
     ]
    }
   ],
   "source": [
    "print(\"工藤　慎平\")\n",
    "print(\"30歳\")\n",
    "print(\"三度の飯より数学が好き\")"
   ]
  },
  {
   "cell_type": "code",
   "execution_count": 2,
   "metadata": {},
   "outputs": [
    {
     "name": "stdout",
     "output_type": "stream",
     "text": [
      "1\n",
      "10\n"
     ]
    }
   ],
   "source": [
    "print(1)\n",
    "print(10)"
   ]
  },
  {
   "cell_type": "code",
   "execution_count": 3,
   "metadata": {},
   "outputs": [
    {
     "name": "stdout",
     "output_type": "stream",
     "text": [
      "2\n",
      "8\n"
     ]
    }
   ],
   "source": [
    "print(1 + 1)\n",
    "print(10 - 2)"
   ]
  },
  {
   "cell_type": "code",
   "execution_count": 1,
   "metadata": {},
   "outputs": [
    {
     "name": "stdout",
     "output_type": "stream",
     "text": [
      "11\n"
     ]
    }
   ],
   "source": [
    "print('1' + '1')"
   ]
  },
  {
   "cell_type": "code",
   "execution_count": 2,
   "metadata": {},
   "outputs": [
    {
     "name": "stdout",
     "output_type": "stream",
     "text": [
      "Pythonの世界へようこそ\n",
      "pythonはとってもとってもとっても楽しいですよ\n"
     ]
    }
   ],
   "source": [
    "print('Python' + 'の世界へようこそ')\n",
    "\n",
    "print('pythonは' + 'とっても' * 3 + '楽しいですよ')"
   ]
  },
  {
   "cell_type": "code",
   "execution_count": 3,
   "metadata": {},
   "outputs": [
    {
     "name": "stdout",
     "output_type": "stream",
     "text": [
      "はじめまして松田です身体を動かすのが好きです\n",
      "はじめまして\n",
      "松田です\n",
      "身体を動かすのが好きです\n",
      "引用符には、'と\"があります\n"
     ]
    }
   ],
   "source": [
    "print('はじめまして松田です身体を動かすのが好きです')\n",
    "print('はじめまして\\n松田です\\n身体を動かすのが好きです')\n",
    "print('引用符には、\\'と\\\"があります')"
   ]
  },
  {
   "cell_type": "code",
   "execution_count": 5,
   "metadata": {},
   "outputs": [
    {
     "name": "stdout",
     "output_type": "stream",
     "text": [
      "半径が3cmの円の直径は、\n",
      "6\n",
      "その円の円周の長さは、直径×円周率で求まるため、\n",
      "18.84\n"
     ]
    }
   ],
   "source": [
    "print('半径が3cmの円の直径は、')\n",
    "print(3 * 2)\n",
    "print('その円の円周の長さは、直径×円周率で求まるため、')\n",
    "print(3 * 2 * 3.14)"
   ]
  },
  {
   "cell_type": "code",
   "execution_count": 6,
   "metadata": {},
   "outputs": [
    {
     "name": "stdout",
     "output_type": "stream",
     "text": [
      "松田\n",
      "22\n"
     ]
    }
   ],
   "source": [
    "name = '松田'\n",
    "age = 22\n",
    "print(name)\n",
    "print(age)"
   ]
  },
  {
   "cell_type": "code",
   "execution_count": 8,
   "metadata": {},
   "outputs": [
    {
     "name": "stdout",
     "output_type": "stream",
     "text": [
      "半径が3cmの円の直径は、\n",
      "6\n",
      "その円の円周の長さは、\n",
      "18.84\n"
     ]
    }
   ],
   "source": [
    "print('半径が3cmの円の直径は、')\n",
    "dia = 3 * 2 #diaはdiameter(直径)の略\n",
    "print(dia)\n",
    "print('その円の円周の長さは、')\n",
    "print(dia * 3.14)"
   ]
  },
  {
   "cell_type": "code",
   "execution_count": 10,
   "metadata": {},
   "outputs": [
    {
     "name": "stdout",
     "output_type": "stream",
     "text": [
      "浅木の年齢は\n",
      "20\n",
      "うそ。本当は\n",
      "24\n"
     ]
    }
   ],
   "source": [
    "age = 20\n",
    "print('浅木の年齢は')\n",
    "print(age)\n",
    "age = 24\n",
    "print('うそ。本当は')\n",
    "print(24)"
   ]
  },
  {
   "cell_type": "code",
   "execution_count": 11,
   "metadata": {},
   "outputs": [
    {
     "name": "stdout",
     "output_type": "stream",
     "text": [
      "['False', 'None', 'True', 'and', 'as', 'assert', 'async', 'await', 'break', 'class', 'continue', 'def', 'del', 'elif', 'else', 'except', 'finally', 'for', 'from', 'global', 'if', 'import', 'in', 'is', 'lambda', 'nonlocal', 'not', 'or', 'pass', 'raise', 'return', 'try', 'while', 'with', 'yield']\n"
     ]
    }
   ],
   "source": [
    "import keyword\n",
    "print(keyword.kwlist)"
   ]
  },
  {
   "cell_type": "code",
   "execution_count": 12,
   "metadata": {},
   "outputs": [
    {
     "name": "stdout",
     "output_type": "stream",
     "text": [
      "浅木\n",
      "24\n"
     ]
    }
   ],
   "source": [
    "name, age = '浅木', 24\n",
    "print(name)\n",
    "print(age)"
   ]
  },
  {
   "cell_type": "code",
   "execution_count": 13,
   "metadata": {},
   "outputs": [
    {
     "name": "stdout",
     "output_type": "stream",
     "text": [
      "浅木先輩の今年の年齢は...\n",
      "24\n",
      "来年は...\n",
      "24\n",
      "再来年は...\n",
      "24\n"
     ]
    }
   ],
   "source": [
    "age = 24\n",
    "print('浅木先輩の今年の年齢は...')\n",
    "print(age)\n",
    "age + 1\n",
    "print('来年は...')\n",
    "print(age)\n",
    "age + 1\n",
    "print('再来年は...')\n",
    "print(age)"
   ]
  },
  {
   "cell_type": "code",
   "execution_count": 14,
   "metadata": {},
   "outputs": [
    {
     "name": "stdout",
     "output_type": "stream",
     "text": [
      "浅木先輩の年齢は...\n",
      "24\n",
      "来年は...\n",
      "25\n",
      "再来年は...\n",
      "26\n"
     ]
    }
   ],
   "source": [
    "age = 24\n",
    "print('浅木先輩の年齢は...')\n",
    "print(age)\n",
    "age = age + 1\n",
    "print('来年は...')\n",
    "print(age)\n",
    "age = age + 1\n",
    "print('再来年は...')\n",
    "print(age)"
   ]
  },
  {
   "cell_type": "code",
   "execution_count": 15,
   "metadata": {},
   "outputs": [
    {
     "name": "stdin",
     "output_type": "stream",
     "text": [
      "あなたの名前を入力してください >> 田中和樹\n"
     ]
    },
    {
     "name": "stdout",
     "output_type": "stream",
     "text": [
      "おお田中和樹よ、そなたがくるのを待っておったぞ！\n"
     ]
    }
   ],
   "source": [
    "name = input('あなたの名前を入力してください >>')\n",
    "print('おお' + name + 'よ、そなたがくるのを待っておったぞ！')"
   ]
  },
  {
   "cell_type": "code",
   "execution_count": 16,
   "metadata": {},
   "outputs": [
    {
     "name": "stdin",
     "output_type": "stream",
     "text": [
      "料金を入力 >> 15000\n",
      "人数を入力 >> 4\n"
     ]
    },
    {
     "ename": "TypeError",
     "evalue": "unsupported operand type(s) for /: 'str' and 'str'",
     "output_type": "error",
     "traceback": [
      "\u001b[1;31m---------------------------------------------------------------------------\u001b[0m",
      "\u001b[1;31mTypeError\u001b[0m                                 Traceback (most recent call last)",
      "\u001b[1;32m<ipython-input-16-97455000d4d6>\u001b[0m in \u001b[0;36m<module>\u001b[1;34m\u001b[0m\n\u001b[0;32m      1\u001b[0m \u001b[0mprice\u001b[0m \u001b[1;33m=\u001b[0m \u001b[0minput\u001b[0m\u001b[1;33m(\u001b[0m\u001b[1;34m'料金を入力 >>'\u001b[0m\u001b[1;33m)\u001b[0m\u001b[1;33m\u001b[0m\u001b[1;33m\u001b[0m\u001b[0m\n\u001b[0;32m      2\u001b[0m \u001b[0mnumber\u001b[0m \u001b[1;33m=\u001b[0m \u001b[0minput\u001b[0m\u001b[1;33m(\u001b[0m\u001b[1;34m'人数を入力 >>'\u001b[0m\u001b[1;33m)\u001b[0m\u001b[1;33m\u001b[0m\u001b[1;33m\u001b[0m\u001b[0m\n\u001b[1;32m----> 3\u001b[1;33m \u001b[0mpayment\u001b[0m \u001b[1;33m=\u001b[0m \u001b[0mprice\u001b[0m \u001b[1;33m/\u001b[0m \u001b[0mnumber\u001b[0m\u001b[1;33m\u001b[0m\u001b[1;33m\u001b[0m\u001b[0m\n\u001b[0m\u001b[0;32m      4\u001b[0m \u001b[0mprint\u001b[0m\u001b[1;33m(\u001b[0m\u001b[1;34m'お支払いは'\u001b[0m \u001b[1;33m+\u001b[0m \u001b[0mpayment\u001b[0m \u001b[1;33m+\u001b[0m \u001b[1;34m'円です'\u001b[0m\u001b[1;33m)\u001b[0m\u001b[1;33m\u001b[0m\u001b[1;33m\u001b[0m\u001b[0m\n",
      "\u001b[1;31mTypeError\u001b[0m: unsupported operand type(s) for /: 'str' and 'str'"
     ]
    }
   ],
   "source": [
    "price = input('料金を入力 >>')\n",
    "number = input('人数を入力 >>')\n",
    "payment = price / number\n",
    "print('お支払いは' + payment + '円です')"
   ]
  },
  {
   "cell_type": "code",
   "execution_count": 1,
   "metadata": {},
   "outputs": [
    {
     "name": "stdout",
     "output_type": "stream",
     "text": [
      "松田\n",
      "23\n",
      "175.6\n"
     ]
    }
   ],
   "source": [
    "x = '松田' #名前\n",
    "print(x)\n",
    "x = 23 #年齢\n",
    "print(x)\n",
    "x = 175.6 #身長\n",
    "print(x)"
   ]
  },
  {
   "cell_type": "code",
   "execution_count": 2,
   "metadata": {},
   "outputs": [
    {
     "name": "stdout",
     "output_type": "stream",
     "text": [
      "<class 'int'>\n"
     ]
    }
   ],
   "source": [
    "x = 10\n",
    "print(type(x))"
   ]
  },
  {
   "cell_type": "code",
   "execution_count": 3,
   "metadata": {},
   "outputs": [
    {
     "name": "stdin",
     "output_type": "stream",
     "text": [
      "料金を入力 >> 15000\n"
     ]
    },
    {
     "name": "stdout",
     "output_type": "stream",
     "text": [
      "<class 'str'>\n"
     ]
    }
   ],
   "source": [
    "price = input('料金を入力 >>')\n",
    "print(type(price))"
   ]
  },
  {
   "cell_type": "code",
   "execution_count": 5,
   "metadata": {},
   "outputs": [
    {
     "name": "stdout",
     "output_type": "stream",
     "text": [
      "3\n",
      "<class 'int'>\n",
      "3.14\n",
      "<class 'str'>\n",
      "3.143.14\n"
     ]
    }
   ],
   "source": [
    "x = 3.14\n",
    "y = int(x)\n",
    "print(y)       #変換結果を表示\n",
    "print(type(y)) #変換後のデータ型を表示\n",
    "z = str(x)\n",
    "print(z)       #変換結果を表示\n",
    "print(type(z)) #変換後のデータ型を表示\n",
    "print(z * 2)"
   ]
  },
  {
   "cell_type": "code",
   "execution_count": 6,
   "metadata": {},
   "outputs": [
    {
     "name": "stdin",
     "output_type": "stream",
     "text": [
      "料金を入力 >> 15000\n",
      "人数を入力 >> 4\n"
     ]
    },
    {
     "ename": "TypeError",
     "evalue": "can only concatenate str (not \"int\") to str",
     "output_type": "error",
     "traceback": [
      "\u001b[1;31m---------------------------------------------------------------------------\u001b[0m",
      "\u001b[1;31mTypeError\u001b[0m                                 Traceback (most recent call last)",
      "\u001b[1;32m<ipython-input-6-165f3a6b5ba2>\u001b[0m in \u001b[0;36m<module>\u001b[1;34m\u001b[0m\n\u001b[0;32m      5\u001b[0m \u001b[0mpayment\u001b[0m \u001b[1;33m=\u001b[0m \u001b[0mprice\u001b[0m \u001b[1;33m/\u001b[0m \u001b[0mnumber\u001b[0m         \u001b[1;31m#割り算の結果はfloat型\u001b[0m\u001b[1;33m\u001b[0m\u001b[1;33m\u001b[0m\u001b[0m\n\u001b[0;32m      6\u001b[0m \u001b[0mpayment\u001b[0m \u001b[1;33m=\u001b[0m \u001b[0mint\u001b[0m\u001b[1;33m(\u001b[0m\u001b[0mpayment\u001b[0m\u001b[1;33m)\u001b[0m\u001b[1;33m\u001b[0m\u001b[1;33m\u001b[0m\u001b[0m\n\u001b[1;32m----> 7\u001b[1;33m \u001b[0mprint\u001b[0m\u001b[1;33m(\u001b[0m\u001b[1;34m'お支払いは'\u001b[0m \u001b[1;33m+\u001b[0m \u001b[0mpayment\u001b[0m \u001b[1;33m+\u001b[0m \u001b[1;34m'円です'\u001b[0m\u001b[1;33m)\u001b[0m\u001b[1;33m\u001b[0m\u001b[1;33m\u001b[0m\u001b[0m\n\u001b[0m",
      "\u001b[1;31mTypeError\u001b[0m: can only concatenate str (not \"int\") to str"
     ]
    }
   ],
   "source": [
    "price = input('料金を入力 >>')    #キーボード入力結果はstr型\n",
    "price = int(price)\n",
    "number = input('人数を入力 >>')   #キーボード入力結果はstr型\n",
    "number = int(number)\n",
    "payment = price / number         #割り算の結果はfloat型\n",
    "payment = int(payment)\n",
    "print('お支払いは' + payment + '円です')"
   ]
  },
  {
   "cell_type": "code",
   "execution_count": 7,
   "metadata": {},
   "outputs": [
    {
     "name": "stdout",
     "output_type": "stream",
     "text": [
      "私の名前は松田光太で、年齢は23歳で、身長は175.6cmです\n"
     ]
    }
   ],
   "source": [
    "name = '松田光太'\n",
    "age = 23\n",
    "height = 175.6\n",
    "print('私の名前は' + name + 'で、年齢は' + str(age) + '歳で、身長は' + str(height) + 'cmです')"
   ]
  },
  {
   "cell_type": "code",
   "execution_count": 8,
   "metadata": {},
   "outputs": [
    {
     "name": "stdout",
     "output_type": "stream",
     "text": [
      "私の名前は松田光太で、年齢は23歳で、身長は175.6cmです\n"
     ]
    }
   ],
   "source": [
    "name = '松田光太'\n",
    "age = 23\n",
    "height = 175.6\n",
    "print('私の名前は{}で、年齢は{}歳で、身長は{}cmです'.format(name, age, height))"
   ]
  },
  {
   "cell_type": "code",
   "execution_count": 9,
   "metadata": {},
   "outputs": [
    {
     "name": "stdin",
     "output_type": "stream",
     "text": [
      "料金を入力 >> 15000\n",
      "人数を入力 >> 4\n"
     ]
    },
    {
     "name": "stdout",
     "output_type": "stream",
     "text": [
      "お支払いは3750円です\n"
     ]
    }
   ],
   "source": [
    "price = int(input('料金を入力 >>'))\n",
    "number = int(input('人数を入力 >>'))\n",
    "payment = int(price / number)\n",
    "print('お支払いは{}円です'.format(payment))"
   ]
  },
  {
   "cell_type": "code",
   "execution_count": 13,
   "metadata": {},
   "outputs": [
    {
     "name": "stdin",
     "output_type": "stream",
     "text": [
      "身長を入力してください >> 180\n",
      "体重を入力してください >> 64\n"
     ]
    },
    {
     "name": "stdout",
     "output_type": "stream",
     "text": [
      "BMIは19.753086419753085です\n"
     ]
    }
   ],
   "source": [
    "height = int(input('身長を入力してください >>')) / 100\n",
    "weight = float(input('体重を入力してください >>'))\n",
    "bmi = weight / height / height\n",
    "print('BMIは{}です'.format(bmi))"
   ]
  },
  {
   "cell_type": "code",
   "execution_count": 15,
   "metadata": {},
   "outputs": [
    {
     "name": "stdin",
     "output_type": "stream",
     "text": [
      "身長は (cm)は？　>> 178\n",
      "体重 (kg)は？ >> 70\n"
     ]
    },
    {
     "name": "stdout",
     "output_type": "stream",
     "text": [
      "BMIは22.093170054286073です\n"
     ]
    }
   ],
   "source": [
    "h, w = int(input('身長は (cm)は？　>>')) / 100, \\\n",
    "       float(input('体重 (kg)は？ >>'))\n",
    "print(f'BMIは{w / h ** 2}です')"
   ]
  },
  {
   "cell_type": "code",
   "execution_count": 16,
   "metadata": {},
   "outputs": [
    {
     "name": "stdout",
     "output_type": "stream",
     "text": [
      "合計点:273\n",
      "平均点:91.0\n"
     ]
    }
   ],
   "source": [
    "network = 88\n",
    "database = 95\n",
    "security = 90\n",
    "sum = network + database + security\n",
    "avg = sum / 3\n",
    "print('合計点:{}'.format(sum))\n",
    "print('平均点:{}'.format(avg))"
   ]
  },
  {
   "cell_type": "code",
   "execution_count": 17,
   "metadata": {},
   "outputs": [
    {
     "name": "stdout",
     "output_type": "stream",
     "text": [
      "['工藤', '松田', '浅木']\n"
     ]
    }
   ],
   "source": [
    "members = ['工藤', '松田', '浅木']\n",
    "print(members)"
   ]
  },
  {
   "cell_type": "code",
   "execution_count": 18,
   "metadata": {},
   "outputs": [
    {
     "name": "stdout",
     "output_type": "stream",
     "text": [
      "工藤\n"
     ]
    }
   ],
   "source": [
    "members = ['工藤', '松田', '浅木']\n",
    "print(members[0])"
   ]
  },
  {
   "cell_type": "code",
   "execution_count": 20,
   "metadata": {},
   "outputs": [
    {
     "name": "stdout",
     "output_type": "stream",
     "text": [
      "合計273点\n"
     ]
    }
   ],
   "source": [
    "#ネットワーク、データベース、セキュリティ試験の点数\n",
    "scores = [88, 90, 95]\n",
    "total = scores[0] + scores[1] + scores[2]\n",
    "print('合計{}点'.format(total))"
   ]
  },
  {
   "cell_type": "code",
   "execution_count": 29,
   "metadata": {},
   "outputs": [
    {
     "name": "stdout",
     "output_type": "stream",
     "text": [
      "<class 'list'>\n"
     ]
    },
    {
     "ename": "TypeError",
     "evalue": "'int' object is not callable",
     "output_type": "error",
     "traceback": [
      "\u001b[1;31m---------------------------------------------------------------------------\u001b[0m",
      "\u001b[1;31mTypeError\u001b[0m                                 Traceback (most recent call last)",
      "\u001b[1;32m<ipython-input-29-1ea58e528417>\u001b[0m in \u001b[0;36m<module>\u001b[1;34m\u001b[0m\n\u001b[0;32m      1\u001b[0m \u001b[0mscores\u001b[0m \u001b[1;33m=\u001b[0m \u001b[1;33m[\u001b[0m\u001b[1;36m88\u001b[0m\u001b[1;33m,\u001b[0m \u001b[1;36m90\u001b[0m\u001b[1;33m,\u001b[0m \u001b[1;36m95\u001b[0m\u001b[1;33m]\u001b[0m\u001b[1;33m\u001b[0m\u001b[1;33m\u001b[0m\u001b[0m\n\u001b[0;32m      2\u001b[0m \u001b[0mprint\u001b[0m\u001b[1;33m(\u001b[0m\u001b[0mtype\u001b[0m\u001b[1;33m(\u001b[0m\u001b[0mscores\u001b[0m\u001b[1;33m)\u001b[0m\u001b[1;33m)\u001b[0m\u001b[1;33m\u001b[0m\u001b[1;33m\u001b[0m\u001b[0m\n\u001b[1;32m----> 3\u001b[1;33m \u001b[0mtotal\u001b[0m \u001b[1;33m=\u001b[0m \u001b[0msum\u001b[0m\u001b[1;33m(\u001b[0m\u001b[0mscores\u001b[0m\u001b[1;33m)\u001b[0m\u001b[1;33m\u001b[0m\u001b[1;33m\u001b[0m\u001b[0m\n\u001b[0m\u001b[0;32m      4\u001b[0m \u001b[0mprint\u001b[0m\u001b[1;33m(\u001b[0m\u001b[0mtotal\u001b[0m\u001b[1;33m)\u001b[0m\u001b[1;33m\u001b[0m\u001b[1;33m\u001b[0m\u001b[0m\n",
      "\u001b[1;31mTypeError\u001b[0m: 'int' object is not callable"
     ]
    }
   ],
   "source": [
    "scores = [88, 90, 95]\n",
    "print(type(scores))\n",
    "total = sum(scores)\n",
    "print(total)"
   ]
  },
  {
   "cell_type": "code",
   "execution_count": 31,
   "metadata": {},
   "outputs": [
    {
     "ename": "TypeError",
     "evalue": "'int' object is not callable",
     "output_type": "error",
     "traceback": [
      "\u001b[1;31m---------------------------------------------------------------------------\u001b[0m",
      "\u001b[1;31mTypeError\u001b[0m                                 Traceback (most recent call last)",
      "\u001b[1;32m<ipython-input-31-74afe328e114>\u001b[0m in \u001b[0;36m<module>\u001b[1;34m\u001b[0m\n\u001b[0;32m      1\u001b[0m \u001b[0ma\u001b[0m \u001b[1;33m=\u001b[0m \u001b[1;33m[\u001b[0m\u001b[1;36m5\u001b[0m\u001b[1;33m,\u001b[0m\u001b[1;36m3\u001b[0m\u001b[1;33m,\u001b[0m\u001b[1;36m6\u001b[0m\u001b[1;33m]\u001b[0m\u001b[1;33m\u001b[0m\u001b[1;33m\u001b[0m\u001b[0m\n\u001b[1;32m----> 2\u001b[1;33m \u001b[0mprint\u001b[0m\u001b[1;33m(\u001b[0m\u001b[0msum\u001b[0m\u001b[1;33m(\u001b[0m\u001b[0ma\u001b[0m\u001b[1;33m)\u001b[0m\u001b[1;33m)\u001b[0m\u001b[1;33m\u001b[0m\u001b[1;33m\u001b[0m\u001b[0m\n\u001b[0m",
      "\u001b[1;31mTypeError\u001b[0m: 'int' object is not callable"
     ]
    }
   ],
   "source": [
    "a = [5,3,6]\n",
    "print(sum(a))"
   ]
  },
  {
   "cell_type": "code",
   "execution_count": 1,
   "metadata": {},
   "outputs": [
    {
     "name": "stdout",
     "output_type": "stream",
     "text": [
      "合計273点\n"
     ]
    }
   ],
   "source": [
    "scores = [88, 90, 95]\n",
    "total = sum(scores)\n",
    "print('合計{}点'.format(total))"
   ]
  },
  {
   "cell_type": "code",
   "execution_count": 2,
   "metadata": {},
   "outputs": [
    {
     "name": "stdout",
     "output_type": "stream",
     "text": [
      "14\n"
     ]
    }
   ],
   "source": [
    "a = [5, 3, 6]\n",
    "print(sum(a))"
   ]
  },
  {
   "cell_type": "code",
   "execution_count": 4,
   "metadata": {},
   "outputs": [
    {
     "name": "stdout",
     "output_type": "stream",
     "text": [
      "合計273点、平均91.0点\n"
     ]
    }
   ],
   "source": [
    "scores = [88, 90, 95]\n",
    "total = sum(scores)\n",
    "avg = total / len(scores)\n",
    "print('合計{}点、平均{}点'.format(total, avg))"
   ]
  },
  {
   "cell_type": "code",
   "execution_count": 5,
   "metadata": {},
   "outputs": [
    {
     "name": "stdout",
     "output_type": "stream",
     "text": [
      "['工藤', '松田', '浅木', '菅原', '湊', '朝香']\n"
     ]
    }
   ],
   "source": [
    "members = ['工藤', '松田', '浅木']\n",
    "members.append('菅原')\n",
    "members.append('湊')\n",
    "members.append('朝香')\n",
    "print(members)"
   ]
  },
  {
   "cell_type": "code",
   "execution_count": 6,
   "metadata": {},
   "outputs": [
    {
     "name": "stdout",
     "output_type": "stream",
     "text": [
      "['工藤', '浅木']\n"
     ]
    }
   ],
   "source": [
    "members = ['工藤', '松田', '浅木']\n",
    "members.remove('松田')\n",
    "print(members)"
   ]
  },
  {
   "cell_type": "code",
   "execution_count": 7,
   "metadata": {},
   "outputs": [
    {
     "name": "stdout",
     "output_type": "stream",
     "text": [
      "['菅原', '松田', '浅木']\n"
     ]
    }
   ],
   "source": [
    "members = ['工藤', '松田', '浅木']\n",
    "members[0] = '菅原'\n",
    "print(members)"
   ]
  },
  {
   "cell_type": "code",
   "execution_count": 8,
   "metadata": {},
   "outputs": [
    {
     "name": "stdout",
     "output_type": "stream",
     "text": [
      "[20, 30]\n",
      "[30, 40, 50]\n",
      "[10, 20, 30]\n"
     ]
    }
   ],
   "source": [
    "a = [10, 20, 30, 40, 50]\n",
    "print(a[1:3]) #添え字が１以上３未満の要素\n",
    "print(a[2:])  #添え字が２以上の全ての要素\n",
    "print(a[:3])  #添え字が３未満の全ての要素"
   ]
  },
  {
   "cell_type": "code",
   "execution_count": 9,
   "metadata": {},
   "outputs": [
    {
     "name": "stdout",
     "output_type": "stream",
     "text": [
      "50\n",
      "40\n"
     ]
    }
   ],
   "source": [
    "a = [10, 20, 30, 40, 50]\n",
    "print(a[-1])  #末尾の要素を参照\n",
    "print(a[-2])  #末尾から２番目の要素を参照"
   ]
  },
  {
   "cell_type": "code",
   "execution_count": 10,
   "metadata": {},
   "outputs": [
    {
     "name": "stdout",
     "output_type": "stream",
     "text": [
      "{'network': 60, 'database': 80, 'security': 50}\n"
     ]
    }
   ],
   "source": [
    "scores = {'network':60, 'database':80, 'security':50}\n",
    "print(scores)"
   ]
  },
  {
   "cell_type": "code",
   "execution_count": 11,
   "metadata": {},
   "outputs": [
    {
     "name": "stdout",
     "output_type": "stream",
     "text": [
      "80\n"
     ]
    }
   ],
   "source": [
    "scores = {'network':60, 'database':80, 'security':50}\n",
    "print(scores['database'])"
   ]
  },
  {
   "cell_type": "code",
   "execution_count": 12,
   "metadata": {},
   "outputs": [
    {
     "name": "stdout",
     "output_type": "stream",
     "text": [
      "{'network': 60, 'database': 80, 'security': 55, 'programming': 65}\n"
     ]
    }
   ],
   "source": [
    "scores = {'network':60, 'database':80, 'security':50}\n",
    "scores['programming'] = 65\n",
    "scores['security'] = 55\n",
    "print(scores)"
   ]
  },
  {
   "cell_type": "code",
   "execution_count": 13,
   "metadata": {},
   "outputs": [
    {
     "name": "stdout",
     "output_type": "stream",
     "text": [
      "{'network': 60, 'databasse': 80}\n"
     ]
    }
   ],
   "source": [
    "scores = {'network':60, 'databasse':80, 'security':55}\n",
    "del scores['security']\n",
    "print(scores)"
   ]
  },
  {
   "cell_type": "code",
   "execution_count": 16,
   "metadata": {},
   "outputs": [
    {
     "name": "stdout",
     "output_type": "stream",
     "text": [
      "190\n"
     ]
    }
   ],
   "source": [
    "scores = {'network':60, 'database':80, 'security':50}\n",
    "total = sum(scores.values())\n",
    "print(total)"
   ]
  },
  {
   "cell_type": "code",
   "execution_count": 1,
   "metadata": {},
   "outputs": [
    {
     "name": "stdout",
     "output_type": "stream",
     "text": [
      "(70, 80, 55)\n",
      "70\n",
      "要素数は3\n",
      "合計は205\n"
     ]
    }
   ],
   "source": [
    "scores = (70, 80, 55)\n",
    "print(scores)\n",
    "print(scores[0])\n",
    "print('要素数は{}'.format(len(scores)))\n",
    "print('合計は{}'.format(sum(scores)))"
   ]
  },
  {
   "cell_type": "code",
   "execution_count": 2,
   "metadata": {},
   "outputs": [
    {
     "ename": "TypeError",
     "evalue": "'tuple' object does not support item assignment",
     "output_type": "error",
     "traceback": [
      "\u001b[1;31m---------------------------------------------------------------------------\u001b[0m",
      "\u001b[1;31mTypeError\u001b[0m                                 Traceback (most recent call last)",
      "\u001b[1;32m<ipython-input-2-ffef79bdd1ad>\u001b[0m in \u001b[0;36m<module>\u001b[1;34m\u001b[0m\n\u001b[0;32m      1\u001b[0m \u001b[0mscores\u001b[0m \u001b[1;33m=\u001b[0m \u001b[1;33m(\u001b[0m\u001b[1;36m70\u001b[0m\u001b[1;33m,\u001b[0m \u001b[1;36m80\u001b[0m\u001b[1;33m,\u001b[0m \u001b[1;36m55\u001b[0m\u001b[1;33m)\u001b[0m\u001b[1;33m\u001b[0m\u001b[1;33m\u001b[0m\u001b[0m\n\u001b[1;32m----> 2\u001b[1;33m \u001b[0mscores\u001b[0m\u001b[1;33m[\u001b[0m\u001b[1;36m0\u001b[0m\u001b[1;33m]\u001b[0m \u001b[1;33m=\u001b[0m \u001b[1;36m80\u001b[0m\u001b[1;33m\u001b[0m\u001b[1;33m\u001b[0m\u001b[0m\n\u001b[0m",
      "\u001b[1;31mTypeError\u001b[0m: 'tuple' object does not support item assignment"
     ]
    }
   ],
   "source": [
    "scores = (70, 80, 55)\n",
    "scores[0] = 80"
   ]
  },
  {
   "cell_type": "code",
   "execution_count": 3,
   "metadata": {},
   "outputs": [],
   "source": [
    "members = {'松田'}        #要素数１のリスト\n",
    "scores = {'network':82}  #要素数１のディクショナリ"
   ]
  },
  {
   "cell_type": "code",
   "execution_count": 4,
   "metadata": {},
   "outputs": [
    {
     "name": "stdout",
     "output_type": "stream",
     "text": [
      "<class 'str'>\n"
     ]
    }
   ],
   "source": [
    "members = ('松田')  #要素数１のタプルを定義（したつもり）\n",
    "print(type(members))"
   ]
  },
  {
   "cell_type": "code",
   "execution_count": 5,
   "metadata": {},
   "outputs": [
    {
     "name": "stdout",
     "output_type": "stream",
     "text": [
      "<class 'tuple'>\n"
     ]
    }
   ],
   "source": [
    "members = ('松田',)\n",
    "print(type(members))"
   ]
  },
  {
   "cell_type": "code",
   "execution_count": 6,
   "metadata": {},
   "outputs": [
    {
     "name": "stdout",
     "output_type": "stream",
     "text": [
      "{80, 70, 55}\n",
      "要素数は3\n",
      "合計は205\n"
     ]
    }
   ],
   "source": [
    "scores = {70, 80, 55, 80}\n",
    "scores.add(80);\n",
    "print(scores)\n",
    "print('要素数は{}'.format(len(scores)))\n",
    "print('合計は{}'.format(sum(scores)))"
   ]
  },
  {
   "cell_type": "code",
   "execution_count": 8,
   "metadata": {},
   "outputs": [
    {
     "name": "stdout",
     "output_type": "stream",
     "text": [
      "('松田', '浅木', '工藤')\n",
      "['network', 'database', 'security']\n",
      "{80, 60}\n"
     ]
    }
   ],
   "source": [
    "scores = {'network':60, 'database':80, 'security':60}\n",
    "members = ['松田', '浅木', '工藤']\n",
    "print(tuple(members))     #リストmembersをタプルに変換して表示\n",
    "print(list(scores))       #scoresのキーをリストに変換して表示\n",
    "print(set(scores.values())) #scoresの値をセットに変換して表示"
   ]
  },
  {
   "cell_type": "code",
   "execution_count": 9,
   "metadata": {},
   "outputs": [],
   "source": [
    "matsuda_scores = {'network':60, 'database':80, 'security':50}\n",
    "asagi_scores = {'network':80, 'database':75, 'security':92}\n",
    "member_scores = {\n",
    "    '松田': matsuda_scores,\n",
    "    '浅木': asagi_scores\n",
    "}"
   ]
  },
  {
   "cell_type": "code",
   "execution_count": 11,
   "metadata": {},
   "outputs": [
    {
     "name": "stdout",
     "output_type": "stream",
     "text": [
      "{'松田': {'SNS', '自転車', '麻雀'}, '浅木': {'麻雀', '数学', '食べ歩き'}}\n",
      "{'SNS', '自転車', '麻雀'}\n",
      "{'麻雀', '数学', '食べ歩き'}\n"
     ]
    }
   ],
   "source": [
    "member_hobbies = {\n",
    "    '松田': {'SNS', '麻雀', '自転車'},\n",
    "    '浅木': {'麻雀', '食べ歩き', '数学', '数学','数学'}\n",
    "}\n",
    "#全員の趣味一覧を表示する\n",
    "print(member_hobbies)\n",
    "#松田君の趣味一覧を表示する\n",
    "print(member_hobbies['松田'])\n",
    "#浅木さんの趣味一覧を表示する\n",
    "print(member_hobbies['浅木'])"
   ]
  },
  {
   "cell_type": "code",
   "execution_count": 12,
   "metadata": {},
   "outputs": [
    {
     "name": "stdout",
     "output_type": "stream",
     "text": [
      "[[1, 2, 3], [4, 5, 6]]\n",
      "[1, 2, 3]\n",
      "6\n"
     ]
    }
   ],
   "source": [
    "a = [1, 2, 3]\n",
    "b = [4, 5, 6]\n",
    "c = [a, b]       #aを0番目、bを1番目とする2次元リストcを定義\n",
    "\n",
    "print(c)         #リストc全体を参照\n",
    "print(c[0])      #リストcの0番目（リストa) だけを参照\n",
    "print(c[1][2])   #リストcの1番目（リストb) の2番目だけを参照"
   ]
  },
  {
   "cell_type": "code",
   "execution_count": 2,
   "metadata": {},
   "outputs": [
    {
     "name": "stdout",
     "output_type": "stream",
     "text": [
      "{'麻雀'}\n"
     ]
    }
   ],
   "source": [
    "member_hobbies = {\n",
    "    '松田': {'SNS', '麻雀', '自転車'},\n",
    "    '浅木': {'麻雀', '食べ歩き', '数学', '数学', '数学'}\n",
    "}\n",
    "common_hobbies = member_hobbies['松田'] & member_hobbies['浅木']\n",
    "print(common_hobbies)  #2人に共通する趣味一覧を表示する"
   ]
  },
  {
   "cell_type": "code",
   "execution_count": 3,
   "metadata": {},
   "outputs": [
    {
     "name": "stdout",
     "output_type": "stream",
     "text": [
      "{1, 2, 3, 4, 5}\n",
      "{2, 3, 4}\n",
      "{1}\n",
      "{1, 5}\n"
     ]
    }
   ],
   "source": [
    "A = {1, 2, 3, 4}\n",
    "B = {2, 3, 4, 5}\n",
    "print(A | B)\n",
    "print(A & B)\n",
    "print(A - B)\n",
    "print(A ^ B)"
   ]
  },
  {
   "cell_type": "code",
   "execution_count": 5,
   "metadata": {},
   "outputs": [
    {
     "name": "stdin",
     "output_type": "stream",
     "text": [
      "国語の点数 >> 80\n",
      "算数の点数 >> 50\n",
      "理科の点数 >> 40\n",
      "社会の点数 >> 95\n",
      "英語の点数 >> 84\n"
     ]
    },
    {
     "name": "stdout",
     "output_type": "stream",
     "text": [
      "合計349点 / 平均69.8点\n"
     ]
    }
   ],
   "source": [
    "scores = []\n",
    "scores.append(int(input('国語の点数 >>')))\n",
    "scores.append(int(input('算数の点数 >>')))\n",
    "scores.append(int(input('理科の点数 >>')))\n",
    "scores.append(int(input('社会の点数 >>')))\n",
    "scores.append(int(input('英語の点数 >>')))\n",
    "print(f'合計{sum(scores)}点 / 平均{sum(scores) / len(scores)}点')"
   ]
  },
  {
   "cell_type": "code",
   "execution_count": 6,
   "metadata": {},
   "outputs": [
    {
     "name": "stdin",
     "output_type": "stream",
     "text": [
      "心の準備が出来たらEnterキーを押してください \n"
     ]
    },
    {
     "name": "stdout",
     "output_type": "stream",
     "text": [
      "相性度は25.0％でした\n"
     ]
    }
   ],
   "source": [
    "player1 = {'読書', '昼寝', '映画鑑賞', '散歩', '料理'}\n",
    "player2 = {'テニス', '将棋', '料理', '読書', '旅行'}\n",
    "input('心の準備が出来たらEnterキーを押してください')\n",
    "common = player1 & player2\n",
    "total = player1 | player2\n",
    "compatibility_rate = len(common) / len(total) * 100\n",
    "print(f'相性度は{compatibility_rate}％でした')"
   ]
  },
  {
   "cell_type": "code",
   "execution_count": 1,
   "metadata": {},
   "outputs": [
    {
     "name": "stdout",
     "output_type": "stream",
     "text": [
      "松田くんは1996年生まれ\n"
     ]
    }
   ],
   "source": [
    "name = '松田'\n",
    "year = 2019 - 23\n",
    "print(name + 'くんは' + str(year) + '年生まれ')"
   ]
  },
  {
   "cell_type": "code",
   "execution_count": 2,
   "metadata": {},
   "outputs": [
    {
     "name": "stdout",
     "output_type": "stream",
     "text": [
      "僕の名前は松田です\n"
     ]
    }
   ],
   "source": [
    "name = '松田'; print('僕の名前は{}です'.format(name))"
   ]
  },
  {
   "cell_type": "code",
   "execution_count": 5,
   "metadata": {},
   "outputs": [
    {
     "name": "stdout",
     "output_type": "stream",
     "text": [
      "答えは6改行しても足し算はできていますね\n"
     ]
    }
   ],
   "source": [
    "n = 1 + 2 \\\n",
    "+ 3\n",
    "print(f'答えは{n}\\\n",
    "改行しても足し算はできていますね')"
   ]
  },
  {
   "cell_type": "code",
   "execution_count": 7,
   "metadata": {},
   "outputs": [
    {
     "name": "stdin",
     "output_type": "stream",
     "text": [
      "あなたの名前を教えてください >> 松田\n"
     ]
    },
    {
     "name": "stdout",
     "output_type": "stream",
     "text": [
      "松田さん、こんにちは\n"
     ]
    },
    {
     "name": "stdin",
     "output_type": "stream",
     "text": [
      "松田さんの好きな食べ物を教えてください >> 寿司\n"
     ]
    },
    {
     "name": "stdout",
     "output_type": "stream",
     "text": [
      "私も寿司が好きですよ\n"
     ]
    }
   ],
   "source": [
    "name = input('あなたの名前を教えてください >>')\n",
    "print('{}さん、こんにちは'.format(name))\n",
    "food = input('{}さんの好きな食べ物を教えてください >>'.format(name))\n",
    "print('私も{}が好きですよ'.format(food))"
   ]
  },
  {
   "cell_type": "code",
   "execution_count": 10,
   "metadata": {},
   "outputs": [
    {
     "name": "stdin",
     "output_type": "stream",
     "text": [
      "あなたの名前を教えてください >> 田中\n"
     ]
    },
    {
     "name": "stdout",
     "output_type": "stream",
     "text": [
      "田中さん、こんにちは\n"
     ]
    },
    {
     "name": "stdin",
     "output_type": "stream",
     "text": [
      "田中さんの好きな食べ物を教えてください　>> 寿司\n"
     ]
    },
    {
     "name": "stdout",
     "output_type": "stream",
     "text": [
      "私も寿司が好きですよ\n"
     ]
    }
   ],
   "source": [
    "name = input('あなたの名前を教えてください >>')\n",
    "print('{}さん、こんにちは'.format(name))\n",
    "food = input('{}さんの好きな食べ物を教えてください　>>'\n",
    "            .format(name))\n",
    "if food == 'カレー':\n",
    "    print('素敵です。カレーは最高ですよね！！')\n",
    "else:\n",
    "    print('私も{}が好きですよ'.format(food))"
   ]
  },
  {
   "cell_type": "code",
   "execution_count": 13,
   "metadata": {},
   "outputs": [
    {
     "name": "stdin",
     "output_type": "stream",
     "text": [
      "....... 54\n"
     ]
    },
    {
     "name": "stdout",
     "output_type": "stream",
     "text": [
      "不合格\n",
      "追試を受けてください\n"
     ]
    }
   ],
   "source": [
    "score = int(input('.......'))\n",
    "\n",
    "if score >= 60:\n",
    "    print('合格')\n",
    "    print('よくがんばりましたね')\n",
    "else:\n",
    "    print('不合格')\n",
    "    print('追試を受けてください')"
   ]
  },
  {
   "cell_type": "code",
   "execution_count": 14,
   "metadata": {},
   "outputs": [
    {
     "name": "stdin",
     "output_type": "stream",
     "text": [
      "試験の点数を入力してください >> 80\n"
     ]
    },
    {
     "name": "stdout",
     "output_type": "stream",
     "text": [
      "合格！\n",
      "よくがんばりましたね\n",
      "追試を受けてください\n"
     ]
    }
   ],
   "source": [
    "score = int(input('試験の点数を入力してください >>'))\n",
    "if score >= 60:\n",
    "    print('合格！')\n",
    "    print('よくがんばりましたね')\n",
    "else:\n",
    "    print('残念ながら不合格です')\n",
    "print('追試を受けてください')"
   ]
  },
  {
   "cell_type": "code",
   "execution_count": 16,
   "metadata": {},
   "outputs": [
    {
     "ename": "IndentationError",
     "evalue": "unindent does not match any outer indentation level (<tokenize>, line 3)",
     "output_type": "error",
     "traceback": [
      "\u001b[1;36m  File \u001b[1;32m\"<tokenize>\"\u001b[1;36m, line \u001b[1;32m3\u001b[0m\n\u001b[1;33m    print('hoge')\u001b[0m\n\u001b[1;37m    ^\u001b[0m\n\u001b[1;31mIndentationError\u001b[0m\u001b[1;31m:\u001b[0m unindent does not match any outer indentation level\n"
     ]
    }
   ],
   "source": [
    "if x >= 100:\n",
    "    print('hoge')\n",
    "   print('hoge')\n",
    "else:\n",
    "    #省略"
   ]
  },
  {
   "cell_type": "code",
   "execution_count": 3,
   "metadata": {},
   "outputs": [
    {
     "name": "stdin",
     "output_type": "stream",
     "text": [
      "あなたの名前を教えてください >> 田中\n"
     ]
    },
    {
     "name": "stdout",
     "output_type": "stream",
     "text": [
      "田中さん、こんにちは\n"
     ]
    },
    {
     "name": "stdin",
     "output_type": "stream",
     "text": [
      "田中さんの好きな食べ物を教えてください >> インドカレー\n"
     ]
    },
    {
     "name": "stdout",
     "output_type": "stream",
     "text": [
      "素敵です。カレーは最高ですよね!!\n"
     ]
    }
   ],
   "source": [
    "name = input('あなたの名前を教えてください >>')\n",
    "print('{}さん、こんにちは'.format(name))\n",
    "food = input('{}さんの好きな食べ物を教えてください >>'.format(name))\n",
    "if 'カレー' in food:\n",
    "    print('素敵です。カレーは最高ですよね!!')\n",
    "else:\n",
    "    print('私も{}が好きですよ'.format(food))"
   ]
  },
  {
   "cell_type": "code",
   "execution_count": 1,
   "metadata": {},
   "outputs": [
    {
     "name": "stdout",
     "output_type": "stream",
     "text": [
      "100点満点の試験があったのですね。おめでとう！\n"
     ]
    }
   ],
   "source": [
    "scores = [80, 100, 20, 60]\n",
    "if 100 in scores:\n",
    "    print('100点満点の試験があったのですね。おめでとう！')\n",
    "else:\n",
    "    print('次はどれか1つでも100点満点をとろう')\n",
    "    "
   ]
  },
  {
   "cell_type": "code",
   "execution_count": 3,
   "metadata": {},
   "outputs": [
    {
     "name": "stdin",
     "output_type": "stream",
     "text": [
      "追加する科目名を入力してください >> network\n"
     ]
    },
    {
     "name": "stdout",
     "output_type": "stream",
     "text": [
      "すでに登録済みです\n",
      "{'network': 60, 'database': 80, 'security': 50}\n"
     ]
    }
   ],
   "source": [
    "scores = {'network': 60, 'database': 80, 'security': 50}\n",
    "\n",
    "key = input('追加する科目名を入力してください >>')\n",
    "if key in scores:\n",
    "    print('すでに登録済みです')\n",
    "else:\n",
    "    data = int(input('得点を入力してください >>'))\n",
    "    scores[key] = data\n",
    "print(scores)"
   ]
  },
  {
   "cell_type": "code",
   "execution_count": 4,
   "metadata": {},
   "outputs": [
    {
     "name": "stdout",
     "output_type": "stream",
     "text": [
      "条件が成立\n"
     ]
    }
   ],
   "source": [
    "name ='松田'\n",
    "if name < '浅木':\n",
    "    print('条件が成立')\n",
    "else:\n",
    "    print('条件が成立しない')"
   ]
  },
  {
   "cell_type": "code",
   "execution_count": 6,
   "metadata": {},
   "outputs": [
    {
     "name": "stdin",
     "output_type": "stream",
     "text": [
      "試験の点数を入力 >> 59\n"
     ]
    },
    {
     "name": "stdout",
     "output_type": "stream",
     "text": [
      "False\n"
     ]
    }
   ],
   "source": [
    "score = int(input('試験の点数を入力 >>'))\n",
    "print(score >= 60)"
   ]
  },
  {
   "cell_type": "code",
   "execution_count": null,
   "metadata": {},
   "outputs": [],
   "source": [
    "if score >= 60 and score <= 100:\n",
    "if score < 60 or score > 100:\n",
    "if not (score < 60 or score > 100):\n",
    "if not 'カレー' in food:\n",
    "if 60 <= score <= 100:\n",
    "score = 0\n",
    "if score:\n",
    "    #処理\n",
    "else:\n",
    "    #処理\n",
    "if age >= 20:\n",
    "    price = 1500\n",
    "else:\n",
    "    price = 500\n",
    "if age >= 20:\n",
    "    price = 1500"
   ]
  },
  {
   "cell_type": "code",
   "execution_count": 9,
   "metadata": {},
   "outputs": [
    {
     "name": "stdin",
     "output_type": "stream",
     "text": [
      "あなたの名前を教えてください >> あ\n"
     ]
    },
    {
     "name": "stdout",
     "output_type": "stream",
     "text": [
      "あさん、こんにちは\n"
     ]
    },
    {
     "name": "stdin",
     "output_type": "stream",
     "text": [
      "あさんの好きな食べ物を教えてください >> インドカレー\n"
     ]
    },
    {
     "name": "stdout",
     "output_type": "stream",
     "text": [
      "素敵です。とにかくカレーは最高ですよね!!\n"
     ]
    }
   ],
   "source": [
    "name = input('あなたの名前を教えてください >>')\n",
    "print('{}さん、こんにちは'.format(name))\n",
    "if name == '松田':\n",
    "    print('松田さんに会えてうれしいです')\n",
    "    \n",
    "food = input('{}さんの好きな食べ物を教えてください >>'.format(name))\n",
    "if 'カレー' in food:\n",
    "    print('素敵です。とにかくカレーは最高ですよね!!')\n",
    "else:\n",
    "    print('私も{}が好きですよ'.format(food))"
   ]
  },
  {
   "cell_type": "code",
   "execution_count": null,
   "metadata": {},
   "outputs": [],
   "source": [
    "if age >= 40:\n",
    "    price = 500\n",
    "elif age <= 10:\n",
    "    price = 300\n",
    "else:\n",
    "    price = 1000"
   ]
  },
  {
   "cell_type": "code",
   "execution_count": 3,
   "metadata": {},
   "outputs": [
    {
     "name": "stdin",
     "output_type": "stream",
     "text": [
      "試験の点数を入力してください >> 50\n"
     ]
    },
    {
     "name": "stdout",
     "output_type": "stream",
     "text": [
      "残念ながら不合格です\n",
      "追試を受けてください\n"
     ]
    }
   ],
   "source": [
    "score = int(input('試験の点数を入力してください >>'))\n",
    "if score < 0 or score > 100:\n",
    "    print('異常な得点です')\n",
    "    print('入力し直してください')\n",
    "elif score >= 60:\n",
    "    print('合格!')\n",
    "    print('よくがんばりましたね')\n",
    "else:\n",
    "    print('残念ながら不合格です')\n",
    "    \n",
    "    print('追試を受けてください')"
   ]
  },
  {
   "cell_type": "code",
   "execution_count": 7,
   "metadata": {},
   "outputs": [
    {
     "name": "stdout",
     "output_type": "stream",
     "text": [
      "全ての質問にｙまたはｎで答えてください\n"
     ]
    },
    {
     "name": "stdin",
     "output_type": "stream",
     "text": [
      "お金に余裕はありますか？ >> y\n",
      "お腹がすごく空いていますか？ >> n\n",
      "ビールは飲みたいですか？ >> y\n"
     ]
    },
    {
     "name": "stdout",
     "output_type": "stream",
     "text": [
      "焼き鳥はいかがですか\n"
     ]
    },
    {
     "name": "stdin",
     "output_type": "stream",
     "text": [
      "夜食は必要ですか？ >> y\n"
     ]
    },
    {
     "name": "stdout",
     "output_type": "stream",
     "text": [
      "コンビニのチキンはいかがですか\n"
     ]
    }
   ],
   "source": [
    "print('全ての質問にｙまたはｎで答えてください')\n",
    "okane_aruka = input('お金に余裕はありますか？ >>')\n",
    "if okane_aruka == 'y':\n",
    "    onaka_suiteruka = input('お腹がすごく空いていますか？ >>')\n",
    "    nomitai_kibunka = input('ビールは飲みたいですか？ >>')\n",
    "    if onaka_suiteruka == 'y' and nomitai_kibunka == 'y':\n",
    "        print('焼肉はいかがですか')\n",
    "    elif onaka_suiteruka == 'y':\n",
    "        print('カレーはいかがですか')\n",
    "    elif nomitai_kibunka == 'y':\n",
    "        print('焼き鳥はいかがですか')\n",
    "    else:\n",
    "        print('パスタはいかがですか')\n",
    "    yashoku_iruka = input('夜食は必要ですか？ >>')\n",
    "    if yashoku_iruka == 'y':\n",
    "        print('コンビニのチキンはいかがですか')\n",
    "else:\n",
    "    print('家で食べましょう')"
   ]
  },
  {
   "cell_type": "code",
   "execution_count": null,
   "metadata": {},
   "outputs": [],
   "source": [
    "initial == 'K'\n",
    "point >= 80 and point < 256\n",
    "80 =< point < 256\n",
    "bmi < 20 or bmi > 25\n",
    "year % 4 ==0\n",
    "not(day in [28,30,31])"
   ]
  },
  {
   "cell_type": "code",
   "execution_count": 12,
   "metadata": {},
   "outputs": [
    {
     "name": "stdout",
     "output_type": "stream",
     "text": [
      "正解です\n"
     ]
    }
   ],
   "source": [
    "isError = False\n",
    "n = 99\n",
    "if isError == False and n < 100:\n",
    "    print('正解です')"
   ]
  },
  {
   "cell_type": "code",
   "execution_count": 14,
   "metadata": {},
   "outputs": [
    {
     "name": "stdin",
     "output_type": "stream",
     "text": [
      "数値を入力してください 6\n"
     ]
    },
    {
     "name": "stdout",
     "output_type": "stream",
     "text": [
      "偶数です\n"
     ]
    }
   ],
   "source": [
    "number = int(input('数値を入力してください'))\n",
    "if number % 2 == 0:\n",
    "    print('偶数です')\n",
    "else:\n",
    "    print('奇数です')"
   ]
  },
  {
   "cell_type": "code",
   "execution_count": 19,
   "metadata": {},
   "outputs": [
    {
     "name": "stdin",
     "output_type": "stream",
     "text": [
      "挨拶を入力してください >> a\n"
     ]
    },
    {
     "name": "stdout",
     "output_type": "stream",
     "text": [
      "どうしました？\n"
     ]
    }
   ],
   "source": [
    "greeting = input('挨拶を入力してください >>')\n",
    "if greeting == 'こんにちは':\n",
    "    print('ようこそ！')\n",
    "elif greeting == '景気は？':\n",
    "    print('ぼちぼちです')\n",
    "elif greeting == 'さようなら':\n",
    "    print('お元気で！')\n",
    "else:\n",
    "    print('どうしました？')"
   ]
  },
  {
   "cell_type": "code",
   "execution_count": null,
   "metadata": {},
   "outputs": [],
   "source": [
    "div = '偶数' if number % 2 == 0 else '奇数'\n",
    "print('{}です'.format(div))"
   ]
  },
  {
   "cell_type": "code",
   "execution_count": 22,
   "metadata": {},
   "outputs": [
    {
     "name": "stdout",
     "output_type": "stream",
     "text": [
      "さあ、寝ようかしら\n",
      "ひつじが1匹\n",
      "ひつじが2匹\n",
      "ひつじが3匹\n",
      "おやすみなさい...\n"
     ]
    }
   ],
   "source": [
    "print('さあ、寝ようかしら')\n",
    "count = 0    #ひつじの数\n",
    "count += 1\n",
    "print('ひつじが{}匹'.format(count))\n",
    "count += 1\n",
    "print('ひつじが{}匹'.format(count))\n",
    "count += 1\n",
    "print('ひつじが{}匹'.format(count))\n",
    "print('おやすみなさい...')"
   ]
  },
  {
   "cell_type": "code",
   "execution_count": 23,
   "metadata": {},
   "outputs": [
    {
     "name": "stdout",
     "output_type": "stream",
     "text": [
      "ひつじが1匹\n",
      "ひつじが2匹\n",
      "ひつじが3匹\n",
      "おやすみなさい\n"
     ]
    }
   ],
   "source": [
    "count = 0\n",
    "while count < 3:\n",
    "    count += 1\n",
    "    print('ひつじが{}匹'.format(count))\n",
    "print('おやすみなさい')"
   ]
  },
  {
   "cell_type": "code",
   "execution_count": 25,
   "metadata": {},
   "outputs": [
    {
     "name": "stdout",
     "output_type": "stream",
     "text": [
      "ひつじが1匹\n"
     ]
    },
    {
     "name": "stdin",
     "output_type": "stream",
     "text": [
      "もう眠りそうですか？(y/n) >> n\n"
     ]
    },
    {
     "name": "stdout",
     "output_type": "stream",
     "text": [
      "ひつじが2匹\n"
     ]
    },
    {
     "name": "stdin",
     "output_type": "stream",
     "text": [
      "もう眠りそうですか？(y/n) >> n\n"
     ]
    },
    {
     "name": "stdout",
     "output_type": "stream",
     "text": [
      "ひつじが3匹\n"
     ]
    },
    {
     "name": "stdin",
     "output_type": "stream",
     "text": [
      "もう眠りそうですか？(y/n) >> \n"
     ]
    },
    {
     "name": "stdout",
     "output_type": "stream",
     "text": [
      "ひつじが4匹\n"
     ]
    },
    {
     "name": "stdin",
     "output_type": "stream",
     "text": [
      "もう眠りそうですか？(y/n) >> k\n"
     ]
    },
    {
     "name": "stdout",
     "output_type": "stream",
     "text": [
      "ひつじが5匹\n"
     ]
    },
    {
     "name": "stdin",
     "output_type": "stream",
     "text": [
      "もう眠りそうですか？(y/n) >> \n"
     ]
    },
    {
     "name": "stdout",
     "output_type": "stream",
     "text": [
      "ひつじが6匹\n"
     ]
    },
    {
     "name": "stdin",
     "output_type": "stream",
     "text": [
      "もう眠りそうですか？(y/n) >> y\n"
     ]
    },
    {
     "name": "stdout",
     "output_type": "stream",
     "text": [
      "おやすみなさい\n"
     ]
    }
   ],
   "source": [
    "is_awake = True\n",
    "count = 0\n",
    "while is_awake == True:\n",
    "    count += 1\n",
    "    print('ひつじが{}匹'.format(count))\n",
    "    key = input('もう眠りそうですか？(y/n) >>')\n",
    "    if key == 'y':\n",
    "        is_awake = False\n",
    "print('おやすみなさい')"
   ]
  },
  {
   "cell_type": "code",
   "execution_count": 26,
   "metadata": {},
   "outputs": [
    {
     "name": "stdin",
     "output_type": "stream",
     "text": [
      "学生の数を入力 >> 3\n",
      "1人目の試験の得点を入力 >> 80\n",
      "2人目の試験の得点を入力 >> 85\n",
      "3人目の試験の得点を入力 >> 75\n"
     ]
    },
    {
     "name": "stdout",
     "output_type": "stream",
     "text": [
      "[80, 85, 75]\n",
      "平均点は80.0点です\n"
     ]
    }
   ],
   "source": [
    "count = 0                                    # カウンタ変数\n",
    "student_num = int(input('学生の数を入力 >>')) # 学生の数\n",
    "score_list = list()                          # 得点リスト\n",
    "while count < student_num:\n",
    "    count += 1\n",
    "    score = int(input('{}人目の試験の得点を入力 >>'.format(count)))\n",
    "    score_list.append(score)\n",
    "print(score_list)\n",
    "total = sum(score_list)\n",
    "print('平均点は{}点です'.format(total / student_num))"
   ]
  },
  {
   "cell_type": "code",
   "execution_count": 28,
   "metadata": {},
   "outputs": [
    {
     "name": "stdout",
     "output_type": "stream",
     "text": [
      "合格\n",
      "不合格\n",
      "合格\n",
      "合格\n"
     ]
    }
   ],
   "source": [
    "scores = [80, 20, 75, 60]\n",
    "count = 0\n",
    "while count < len(scores):\n",
    "    if scores[count] >= 60:\n",
    "        print('合格')\n",
    "    else:\n",
    "        print('不合格')\n",
    "    count += 1"
   ]
  },
  {
   "cell_type": "code",
   "execution_count": 29,
   "metadata": {},
   "outputs": [
    {
     "name": "stdout",
     "output_type": "stream",
     "text": [
      "合格\n",
      "不合格\n",
      "合格\n",
      "合格\n"
     ]
    }
   ],
   "source": [
    "scores = [80, 20, 75, 60]\n",
    "for data in scores:\n",
    "    if data >= 60:\n",
    "        print('合格')\n",
    "    else:\n",
    "        print('不合格')"
   ]
  },
  {
   "cell_type": "code",
   "execution_count": 30,
   "metadata": {},
   "outputs": [
    {
     "name": "stdout",
     "output_type": "stream",
     "text": [
      "Pythonは楽しい\n",
      "Pythonは楽しい\n",
      "Pythonは楽しい\n"
     ]
    }
   ],
   "source": [
    "for num in range(3):\n",
    "    print('Pythonは楽しい')"
   ]
  },
  {
   "cell_type": "code",
   "execution_count": 32,
   "metadata": {},
   "outputs": [
    {
     "name": "stdout",
     "output_type": "stream",
     "text": [
      "[28, 20, 25, 22, 27]\n"
     ]
    }
   ],
   "source": [
    "ages = [28, 50, 8, 20, 78, 25, 22, 10, 27, 33]   # 対象データ\n",
    "num = 5                     # 目標の抽出数\n",
    "samples = list()            # サンプルデータを格納するリスト\n",
    "for age in ages:\n",
    "    if 20 <= age < 30:\n",
    "        if len(samples) < num:\n",
    "            samples.append(age)\n",
    "print(samples)        "
   ]
  },
  {
   "cell_type": "code",
   "execution_count": 34,
   "metadata": {},
   "outputs": [
    {
     "name": "stdout",
     "output_type": "stream",
     "text": [
      "[28, 20, 25, 22, 27]\n"
     ]
    }
   ],
   "source": [
    "ages = [28, 50, 8, 20, 78, 25, 22, 10, 27, 33]  #対象データ\n",
    "num = 5                    #目標の抽出数\n",
    "samples = list()           #サンプルデータを格納するリスト\n",
    "for data in ages:\n",
    "    if 20 <= data < 30:\n",
    "        samples.append(data)\n",
    "        if len(samples) == num:\n",
    "            break\n",
    "print(samples)"
   ]
  },
  {
   "cell_type": "code",
   "execution_count": 35,
   "metadata": {},
   "outputs": [
    {
     "name": "stdout",
     "output_type": "stream",
     "text": [
      "[28, 20, 25, 22]\n"
     ]
    }
   ],
   "source": [
    "ages = [28, 50, 'ひみつ', 20, 78, 25, 22, 10, '無回答', 33]\n",
    "samples = list()              #サンプルデータを格納するリスト\n",
    "for data in ages:\n",
    "    if not isinstance(data, int):\n",
    "        continue\n",
    "    if data < 20 or data >= 30:\n",
    "        continue\n",
    "    samples.append(data)\n",
    "print(samples)"
   ]
  },
  {
   "cell_type": "code",
   "execution_count": 37,
   "metadata": {},
   "outputs": [
    {
     "name": "stdout",
     "output_type": "stream",
     "text": [
      "1\n"
     ]
    }
   ],
   "source": [
    "data_list=[1,2,3]\n",
    "for num in data_list:\n",
    "    if num == 2:\n",
    "        break\n",
    "    print(num)"
   ]
  },
  {
   "cell_type": "code",
   "execution_count": 38,
   "metadata": {},
   "outputs": [
    {
     "name": "stdout",
     "output_type": "stream",
     "text": [
      "1\n",
      "3\n"
     ]
    }
   ],
   "source": [
    "data_list = [1,2,3]\n",
    "for num in data_list:\n",
    "    if num == 2:\n",
    "        continue\n",
    "    print(num)"
   ]
  },
  {
   "cell_type": "code",
   "execution_count": 40,
   "metadata": {},
   "outputs": [
    {
     "name": "stdout",
     "output_type": "stream",
     "text": [
      "5\n"
     ]
    }
   ],
   "source": [
    "count = 0\n",
    "while count < 5:\n",
    "    count += 1\n",
    "print(count)"
   ]
  },
  {
   "cell_type": "code",
   "execution_count": 42,
   "metadata": {},
   "outputs": [
    {
     "name": "stdout",
     "output_type": "stream",
     "text": [
      "88\n",
      "21\n",
      "65\n"
     ]
    }
   ],
   "source": [
    "for item in [88, 21, 65, 160, 57]:\n",
    "    if item >= 100:\n",
    "        break\n",
    "    print(item)"
   ]
  },
  {
   "cell_type": "code",
   "execution_count": 46,
   "metadata": {},
   "outputs": [
    {
     "name": "stdout",
     "output_type": "stream",
     "text": [
      "カレーを召し上がれ\n",
      "1皿のカレーを食べました\n"
     ]
    },
    {
     "name": "stdin",
     "output_type": "stream",
     "text": [
      "おかわりはいかがですか？ (y/n) >> y\n"
     ]
    },
    {
     "name": "stdout",
     "output_type": "stream",
     "text": [
      "2皿のカレーを食べました\n"
     ]
    },
    {
     "name": "stdin",
     "output_type": "stream",
     "text": [
      "おかわりはいかがですか？ (y/n) >> y\n"
     ]
    },
    {
     "name": "stdout",
     "output_type": "stream",
     "text": [
      "3皿のカレーを食べました\n"
     ]
    },
    {
     "name": "stdin",
     "output_type": "stream",
     "text": [
      "おかわりはいかがですか？ (y/n) >> y\n"
     ]
    },
    {
     "name": "stdout",
     "output_type": "stream",
     "text": [
      "4皿のカレーを食べました\n"
     ]
    },
    {
     "name": "stdin",
     "output_type": "stream",
     "text": [
      "おかわりはいかがですか？ (y/n) >> n\n"
     ]
    },
    {
     "name": "stdout",
     "output_type": "stream",
     "text": [
      "ごちそうさまでした\n"
     ]
    }
   ],
   "source": [
    "count = 1\n",
    "ans = True\n",
    "print('カレーを召し上がれ')\n",
    "while ans == True:\n",
    "    print('{}皿のカレーを食べました'.format(count))\n",
    "    key = input('おかわりはいかがですか？ (y/n) >>')\n",
    "    if key == 'y':\n",
    "        count += 1\n",
    "    else:\n",
    "        ans = False\n",
    "print('ごちそうさまでした')"
   ]
  },
  {
   "cell_type": "code",
   "execution_count": 48,
   "metadata": {},
   "outputs": [
    {
     "name": "stdout",
     "output_type": "stream",
     "text": [
      "カレーを召し上がれ\n",
      "0皿のカレーを食べました\n"
     ]
    },
    {
     "name": "stdin",
     "output_type": "stream",
     "text": [
      "おかわりはいかがですか？(y/n) >> y\n"
     ]
    },
    {
     "name": "stdout",
     "output_type": "stream",
     "text": [
      "1皿のカレーを食べました\n"
     ]
    },
    {
     "name": "stdin",
     "output_type": "stream",
     "text": [
      "おかわりはいかがですか？(y/n) >> y\n"
     ]
    },
    {
     "name": "stdout",
     "output_type": "stream",
     "text": [
      "2皿のカレーを食べました\n"
     ]
    },
    {
     "name": "stdin",
     "output_type": "stream",
     "text": [
      "おかわりはいかがですか？(y/n) >> n\n"
     ]
    },
    {
     "name": "stdout",
     "output_type": "stream",
     "text": [
      "ごちそうさまでした\n"
     ]
    }
   ],
   "source": [
    "count = 0\n",
    "ans = True\n",
    "print('カレーを召し上がれ')\n",
    "while ans == True:\n",
    "    print('{}皿のカレーを食べました'.format(count))\n",
    "    key = input('おかわりはいかがですか？(y/n) >>')\n",
    "    if key == 'y':\n",
    "        count += 1\n",
    "    else:\n",
    "        ans = False\n",
    "print('ごちそうさまでした')"
   ]
  },
  {
   "cell_type": "code",
   "execution_count": 49,
   "metadata": {},
   "outputs": [
    {
     "name": "stdout",
     "output_type": "stream",
     "text": [
      "HelloPython\n"
     ]
    }
   ],
   "source": [
    "print('Hello', end='')\n",
    "print('Python')"
   ]
  },
  {
   "cell_type": "code",
   "execution_count": 50,
   "metadata": {},
   "outputs": [
    {
     "name": "stdout",
     "output_type": "stream",
     "text": [
      "10、9、8、7、6、5、4、3、2、1、Lift off!\n"
     ]
    }
   ],
   "source": [
    "for n in range(10):\n",
    "    print('{}、'.format(10 - n), end='')\n",
    "print('Lift off!')"
   ]
  },
  {
   "cell_type": "code",
   "execution_count": 51,
   "metadata": {},
   "outputs": [
    {
     "name": "stdout",
     "output_type": "stream",
     "text": [
      "1×1=1\n",
      "1×2=2\n",
      "1×3=3\n",
      "1×4=4\n",
      "1×5=5\n",
      "1×6=6\n",
      "1×7=7\n",
      "1×8=8\n",
      "1×9=9\n",
      "2×1=2\n",
      "2×2=4\n",
      "2×3=6\n",
      "2×4=8\n",
      "2×5=10\n",
      "2×6=12\n",
      "2×7=14\n",
      "2×8=16\n",
      "2×9=18\n",
      "3×1=3\n",
      "3×2=6\n",
      "3×3=9\n",
      "3×4=12\n",
      "3×5=15\n",
      "3×6=18\n",
      "3×7=21\n",
      "3×8=24\n",
      "3×9=27\n",
      "4×1=4\n",
      "4×2=8\n",
      "4×3=12\n",
      "4×4=16\n",
      "4×5=20\n",
      "4×6=24\n",
      "4×7=28\n",
      "4×8=32\n",
      "4×9=36\n",
      "5×1=5\n",
      "5×2=10\n",
      "5×3=15\n",
      "5×4=20\n",
      "5×5=25\n",
      "5×6=30\n",
      "5×7=35\n",
      "5×8=40\n",
      "5×9=45\n",
      "6×1=6\n",
      "6×2=12\n",
      "6×3=18\n",
      "6×4=24\n",
      "6×5=30\n",
      "6×6=36\n",
      "6×7=42\n",
      "6×8=48\n",
      "6×9=54\n",
      "7×1=7\n",
      "7×2=14\n",
      "7×3=21\n",
      "7×4=28\n",
      "7×5=35\n",
      "7×6=42\n",
      "7×7=49\n",
      "7×8=56\n",
      "7×9=63\n",
      "8×1=8\n",
      "8×2=16\n",
      "8×3=24\n",
      "8×4=32\n",
      "8×5=40\n",
      "8×6=48\n",
      "8×7=56\n",
      "8×8=64\n",
      "8×9=72\n",
      "9×1=9\n",
      "9×2=18\n",
      "9×3=27\n",
      "9×4=36\n",
      "9×5=45\n",
      "9×6=54\n",
      "9×7=63\n",
      "9×8=72\n",
      "9×9=81\n"
     ]
    }
   ],
   "source": [
    "for i in range(9):\n",
    "    for j in range(9):\n",
    "        print('{}×{}={}'.format(i+1, j+1, (i+1)*(j+1)))"
   ]
  },
  {
   "cell_type": "code",
   "execution_count": 52,
   "metadata": {},
   "outputs": [
    {
     "name": "stdout",
     "output_type": "stream",
     "text": [
      "1×1=1\n",
      "1×2=2\n",
      "1×3=3\n",
      "1×4=4\n",
      "1×5=5\n",
      "1×6=6\n",
      "1×7=7\n",
      "1×8=8\n",
      "1×9=9\n",
      "3×1=3\n",
      "3×2=6\n",
      "3×3=9\n",
      "3×4=12\n",
      "3×5=15\n",
      "3×6=18\n",
      "3×7=21\n",
      "3×8=24\n",
      "3×9=27\n",
      "5×1=5\n",
      "5×2=10\n",
      "5×3=15\n",
      "5×4=20\n",
      "5×5=25\n",
      "5×6=30\n",
      "5×7=35\n",
      "5×8=40\n",
      "5×9=45\n",
      "7×1=7\n",
      "7×2=14\n",
      "7×3=21\n",
      "7×4=28\n",
      "7×5=35\n",
      "7×6=42\n",
      "7×7=49\n",
      "7×8=56\n",
      "7×9=63\n",
      "9×1=9\n",
      "9×2=18\n",
      "9×3=27\n",
      "9×4=36\n",
      "9×5=45\n",
      "9×6=54\n",
      "9×7=63\n",
      "9×8=72\n",
      "9×9=81\n"
     ]
    }
   ],
   "source": [
    "for i in range(9):\n",
    "    if (i+1) % 2 == 0:\n",
    "        continue\n",
    "    for j in range(9):\n",
    "        print('{}×{}={}'.format(i+1, j+1, (i+1)*(j+1)))"
   ]
  },
  {
   "cell_type": "code",
   "execution_count": 53,
   "metadata": {},
   "outputs": [
    {
     "name": "stdout",
     "output_type": "stream",
     "text": [
      "1×1=1\n",
      "1×2=2\n",
      "1×3=3\n",
      "1×4=4\n",
      "1×5=5\n",
      "1×6=6\n",
      "1×7=7\n",
      "1×8=8\n",
      "1×9=9\n",
      "3×1=3\n",
      "3×2=6\n",
      "3×3=9\n",
      "3×4=12\n",
      "3×5=15\n",
      "3×6=18\n",
      "3×7=21\n",
      "3×8=24\n",
      "3×9=27\n",
      "5×1=5\n",
      "5×2=10\n",
      "5×3=15\n",
      "5×4=20\n",
      "5×5=25\n",
      "5×6=30\n",
      "5×7=35\n",
      "5×8=40\n",
      "5×9=45\n",
      "7×1=7\n",
      "7×2=14\n",
      "7×3=21\n",
      "7×4=28\n",
      "7×5=35\n",
      "7×6=42\n",
      "7×7=49\n",
      "9×1=9\n",
      "9×2=18\n",
      "9×3=27\n",
      "9×4=36\n",
      "9×5=45\n"
     ]
    }
   ],
   "source": [
    "for i in range(9):\n",
    "    if (i+1) % 2 == 0:\n",
    "        continue\n",
    "    for j in range(9):\n",
    "        if (i+1)*(j+1) > 50:\n",
    "            break\n",
    "        print('{}×{}={}'.format(i+1, j+1, (i+1)*(j+1)))"
   ]
  },
  {
   "cell_type": "code",
   "execution_count": 59,
   "metadata": {},
   "outputs": [
    {
     "name": "stdin",
     "output_type": "stream",
     "text": [
      "1個目のデータを入力 >> 7.8\n",
      "2個目のデータを入力 >> 9.1\n",
      "3個目のデータを入力 >> 10.2\n",
      "4個目のデータを入力 >> 11.0\n",
      "5個目のデータを入力 >> 12.5\n",
      "6個目のデータを入力 >> 12.4\n",
      "7個目のデータを入力 >> 14.3\n",
      "8個目のデータを入力 >> 13.8\n",
      "9個目のデータを入力 >> 12.9\n",
      "10個目のデータを入力 >> 12.4\n"
     ]
    },
    {
     "name": "stdout",
     "output_type": "stream",
     "text": [
      "[7.8, 9.1, 10.2, 11.0, 12.5, 12.4, 14.3, 13.8, 12.9, 12.4]\n",
      "[7.8, 9.1, 10.2, 11.0, 12.5, 'N/A', 14.3, 13.8, 12.9, 12.4]\n",
      "9.4\n"
     ]
    }
   ],
   "source": [
    "temp = list()\n",
    "for n in range(10):\n",
    "    data = float(input('{}個目のデータを入力 >>'.format(n+1)))\n",
    "    temp.append(data)\n",
    "temp_new = list()\n",
    "for count in range(len(temp)):\n",
    "    if count == 5:\n",
    "        temp_new.append('N/A')\n",
    "    else:\n",
    "        temp_new.append(temp[count])\n",
    "print(temp)\n",
    "print(temp_new)\n",
    "total = 0\n",
    "for data in temp_new:\n",
    "    if isinstance(data, float):\n",
    "        total = total + data\n",
    "print(total / len(temp_new) - 1)"
   ]
  },
  {
   "cell_type": "code",
   "execution_count": 2,
   "metadata": {},
   "outputs": [
    {
     "name": "stdout",
     "output_type": "stream",
     "text": [
      "[1, 1, 2, 3, 5, 8, 13, 21, 34, 55, 89, 144, 233, 377, 610, 987]\n",
      "[1.0, 2.0, 1.5, 1.6666666666666667, 1.6, 1.625, 1.6153846153846154, 1.619047619047619, 1.6176470588235294, 1.6181818181818182, 1.6179775280898876, 1.6180555555555556, 1.6180257510729614, 1.6180371352785146, 1.618032786885246]\n",
      "[1.0, 2.0, 1.5, 1.666, 1.6, 1.625, 1.615, 1.619, 1.617, 1.618, 1.617, 1.618, 1.618, 1.618, 1.618]\n"
     ]
    }
   ],
   "source": [
    "numbers = [1, 1]\n",
    "data = sum(numbers)\n",
    "count = 2\n",
    "while data <= 1000:\n",
    "    numbers.append(data)\n",
    "    data = data + numbers[count-1]\n",
    "    count += 1\n",
    "print(numbers)\n",
    "ratios = list()\n",
    "for count in range(len(numbers)):\n",
    "    if count == len(numbers) - 1:\n",
    "        break\n",
    "    ratios.append(numbers[count+1] / numbers[count])\n",
    "print(ratios)\n",
    "for count in range(len(ratios)):\n",
    "    ratios[count] =  int(ratios[count] * 1000) / 1000\n",
    "print(ratios)"
   ]
  },
  {
   "cell_type": "code",
   "execution_count": 5,
   "metadata": {},
   "outputs": [
    {
     "name": "stdout",
     "output_type": "stream",
     "text": [
      "<class 'float'>\n",
      "1\n"
     ]
    }
   ],
   "source": [
    "x = 1.66666666666\n",
    "print(type(x))\n",
    "y = int(x)\n",
    "print(y)"
   ]
  },
  {
   "cell_type": "code",
   "execution_count": 8,
   "metadata": {},
   "outputs": [
    {
     "name": "stdout",
     "output_type": "stream",
     "text": [
      "浅木さんの試験結果を入力してください\n"
     ]
    },
    {
     "name": "stdin",
     "output_type": "stream",
     "text": [
      "ネットワークの得点？ >> 90\n",
      "データベースの得点？ >> 88\n",
      "セキュリティの得点？ >> 92\n"
     ]
    },
    {
     "name": "stdout",
     "output_type": "stream",
     "text": [
      "松田さんの試験結果を入力してください\n"
     ]
    },
    {
     "name": "stdin",
     "output_type": "stream",
     "text": [
      "ネットワークの得点？ >> 50\n",
      "データベースの得点？ >> 40\n",
      "セキュリティの得点？ >> 60\n"
     ]
    },
    {
     "name": "stdout",
     "output_type": "stream",
     "text": [
      "浅木さんの平均点は90.0です\n",
      "松田さんの平均点は50.0です\n"
     ]
    }
   ],
   "source": [
    "student_list = ['浅木', '松田']\n",
    "count = 0\n",
    "for student in student_list:\n",
    "    print('{}さんの試験結果を入力してください'.format(student))\n",
    "    network = int(input('ネットワークの得点？ >>'))\n",
    "    database = int(input('データベースの得点？ >>'))\n",
    "    security = int(input('セキュリティの得点？ >>'))\n",
    "    if student == '浅木':\n",
    "        asagi_scores = [network, database, security]\n",
    "        asagi_avg = sum(asagi_scores) / len(asagi_scores)\n",
    "    else:\n",
    "        matsuda_scores = [network, database, security]\n",
    "        matsuda_avg = sum(matsuda_scores) / len(matsuda_scores)\n",
    "print('浅木さんの平均点は{}です'.format(asagi_avg))\n",
    "print('松田さんの平均点は{}です'.format(matsuda_avg))"
   ]
  },
  {
   "cell_type": "code",
   "execution_count": 10,
   "metadata": {},
   "outputs": [
    {
     "name": "stdout",
     "output_type": "stream",
     "text": [
      "こんにちは。工藤です。\n"
     ]
    }
   ],
   "source": [
    "def hello():\n",
    "    print('こんにちは。工藤です。')\n",
    "hello()"
   ]
  },
  {
   "cell_type": "code",
   "execution_count": 11,
   "metadata": {},
   "outputs": [
    {
     "name": "stdout",
     "output_type": "stream",
     "text": [
      "浅木さんの試験結果を入力してください\n"
     ]
    }
   ],
   "source": [
    "def input_scores():\n",
    "    print('浅木さんの試験結果を入力してください')\n",
    "input_scores()"
   ]
  },
  {
   "cell_type": "code",
   "execution_count": 12,
   "metadata": {},
   "outputs": [
    {
     "name": "stdout",
     "output_type": "stream",
     "text": [
      "の試験結果を入力してください\n",
      "の試験結果を入力してください\n"
     ]
    }
   ],
   "source": [
    "def input_scores():\n",
    "    name = ''\n",
    "    print('{}の試験結果を入力してください'.format(name))\n",
    "name = '浅木'\n",
    "input_scores()\n",
    "name = '松田'\n",
    "input_scores()"
   ]
  },
  {
   "cell_type": "code",
   "execution_count": 1,
   "metadata": {},
   "outputs": [],
   "source": [
    "def hello(name):\n",
    "    print('こんにちは。{}です。'.format(name))"
   ]
  },
  {
   "cell_type": "code",
   "execution_count": 2,
   "metadata": {},
   "outputs": [
    {
     "name": "stdout",
     "output_type": "stream",
     "text": [
      "こんにちは。浅木です。\n",
      "こんにちは。松田です。\n"
     ]
    }
   ],
   "source": [
    "hello('浅木')\n",
    "hello('松田')"
   ]
  },
  {
   "cell_type": "code",
   "execution_count": 3,
   "metadata": {},
   "outputs": [
    {
     "name": "stdout",
     "output_type": "stream",
     "text": [
      "私の名前は浅木です。\n",
      "年齢は24歳です。\n",
      "趣味はカフェ巡りです。\n"
     ]
    }
   ],
   "source": [
    "def profile(name, age, hobby):\n",
    "    print('私の名前は{}です。'.format(name))\n",
    "    print('年齢は{}歳です。'.format(age))\n",
    "    print('趣味は{}です。'.format(hobby))\n",
    "    \n",
    "profile('浅木','24','カフェ巡り')"
   ]
  },
  {
   "cell_type": "code",
   "execution_count": 9,
   "metadata": {},
   "outputs": [
    {
     "name": "stdout",
     "output_type": "stream",
     "text": [
      "平均点は73.0です\n"
     ]
    }
   ],
   "source": [
    "def calc_average(scores):\n",
    "    avg = sum(scores) / len(scores)\n",
    "    print('平均点は{}です'.format(avg))\n",
    "    \n",
    "calc_average([69,80,70])"
   ]
  },
  {
   "cell_type": "code",
   "execution_count": 12,
   "metadata": {},
   "outputs": [
    {
     "name": "stdout",
     "output_type": "stream",
     "text": [
      "平均点は88.33333333333333です\n"
     ]
    }
   ],
   "source": [
    "def input_scores(name):\n",
    "    print('{}さんの試験結果を入力してください'.format(name))\n",
    "    network = int(input('ネットワークの得点？ >>'))\n",
    "    database = int(input('データベースの得点？ >>'))\n",
    "    security = int(input('セキュリティの得点？ >>'))\n",
    "    scores = [network, database, security]\n",
    "    \n",
    "def calc_average(scores):\n",
    "    avg = sum(scores) / len(scores)\n",
    "    print('平均点は{}です'.format(avg))\n",
    "    \n",
    "calc_average(scores)"
   ]
  }
 ],
 "metadata": {
  "kernelspec": {
   "display_name": "Python 3",
   "language": "python",
   "name": "python3"
  },
  "language_info": {
   "codemirror_mode": {
    "name": "ipython",
    "version": 3
   },
   "file_extension": ".py",
   "mimetype": "text/x-python",
   "name": "python",
   "nbconvert_exporter": "python",
   "pygments_lexer": "ipython3",
   "version": "3.7.4"
  }
 },
 "nbformat": 4,
 "nbformat_minor": 4
}
